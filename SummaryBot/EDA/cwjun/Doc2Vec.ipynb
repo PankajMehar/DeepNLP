{
 "cells": [
  {
   "cell_type": "code",
   "execution_count": 23,
   "metadata": {
    "collapsed": true
   },
   "outputs": [],
   "source": [
    "import pandas as pd\n",
    "import gensim\n",
    "from gensim.models import Doc2Vec"
   ]
  },
  {
   "cell_type": "code",
   "execution_count": 10,
   "metadata": {},
   "outputs": [],
   "source": [
    "df=pd.read_pickle(\"sourceDF.pickle\")"
   ]
  },
  {
   "cell_type": "code",
   "execution_count": 11,
   "metadata": {},
   "outputs": [
    {
     "data": {
      "text/html": [
       "<div>\n",
       "<style scoped>\n",
       "    .dataframe tbody tr th:only-of-type {\n",
       "        vertical-align: middle;\n",
       "    }\n",
       "\n",
       "    .dataframe tbody tr th {\n",
       "        vertical-align: top;\n",
       "    }\n",
       "\n",
       "    .dataframe thead th {\n",
       "        text-align: right;\n",
       "    }\n",
       "</style>\n",
       "<table border=\"1\" class=\"dataframe\">\n",
       "  <thead>\n",
       "    <tr style=\"text-align: right;\">\n",
       "      <th></th>\n",
       "      <th>title</th>\n",
       "      <th>abstract</th>\n",
       "    </tr>\n",
       "  </thead>\n",
       "  <tbody>\n",
       "    <tr>\n",
       "      <th>0</th>\n",
       "      <td>Fusarium Damaged Kernels Detection Using Trans...</td>\n",
       "      <td>. The present work shows the application of tr...</td>\n",
       "    </tr>\n",
       "    <tr>\n",
       "      <th>1</th>\n",
       "      <td>VR Goggles for Robots: Real-to-sim Domain Adap...</td>\n",
       "      <td>This paper deals with the reality gap from a ...</td>\n",
       "    </tr>\n",
       "    <tr>\n",
       "      <th>2</th>\n",
       "      <td>Matrix Completion for Structured Observations</td>\n",
       "      <td>— The need to predict or ﬁll-in missing data, ...</td>\n",
       "    </tr>\n",
       "    <tr>\n",
       "      <th>3</th>\n",
       "      <td>Stochastic Downsampling for Cost-Adjustable In...</td>\n",
       "      <td>It is desirable to train convolutional networ...</td>\n",
       "    </tr>\n",
       "    <tr>\n",
       "      <th>4</th>\n",
       "      <td>Learning Combinations of Activation Functions</td>\n",
       "      <td>—In the last decade, an active area of researc...</td>\n",
       "    </tr>\n",
       "    <tr>\n",
       "      <th>5</th>\n",
       "      <td>ALTERNATING MULTI-BIT QUANTIZATION FOR RECURRE...</td>\n",
       "      <td>Recurrent neural networks have achieved excel...</td>\n",
       "    </tr>\n",
       "    <tr>\n",
       "      <th>6</th>\n",
       "      <td>AUGMENTED SPACE LINEAR MODEL</td>\n",
       "      <td>The linear model uses the space deﬁned by the...</td>\n",
       "    </tr>\n",
       "    <tr>\n",
       "      <th>7</th>\n",
       "      <td>JointDNN: An Efficient Training and Inference ...</td>\n",
       "      <td>Deep neural networks are among the most influ...</td>\n",
       "    </tr>\n",
       "    <tr>\n",
       "      <th>8</th>\n",
       "      <td>Low-rank Bandit Methods for High-dimensional D...</td>\n",
       "      <td>We consider high dimensional dynamic multi-pr...</td>\n",
       "    </tr>\n",
       "    <tr>\n",
       "      <th>9</th>\n",
       "      <td>Less is more: sampling chemical space with act...</td>\n",
       "      <td>The  development  of  accurate  and  transfe...</td>\n",
       "    </tr>\n",
       "    <tr>\n",
       "      <th>10</th>\n",
       "      <td>Distributed Newton Methods for Deep Neural</td>\n",
       "      <td>Deep learning involves a difﬁcult non-convex ...</td>\n",
       "    </tr>\n",
       "    <tr>\n",
       "      <th>11</th>\n",
       "      <td>DISCRETE AUTOENCODERS FOR SEQUENCE MODELS</td>\n",
       "      <td>Recurrent models for sequences have been rece...</td>\n",
       "    </tr>\n",
       "    <tr>\n",
       "      <th>12</th>\n",
       "      <td>Kernel Distillation for Gaussian Processes</td>\n",
       "      <td>Gaussian processes (GPs) are ﬂexible models t...</td>\n",
       "    </tr>\n",
       "    <tr>\n",
       "      <th>13</th>\n",
       "      <td>Short-term Memory of Deep RNN</td>\n",
       "      <td>. The extension of deep learning towards tempo...</td>\n",
       "    </tr>\n",
       "    <tr>\n",
       "      <th>14</th>\n",
       "      <td>Training Neural Networks by Using Power Linear...</td>\n",
       "      <td>In this paper, we introduce ”Power Linear Uni...</td>\n",
       "    </tr>\n",
       "    <tr>\n",
       "      <th>15</th>\n",
       "      <td>Elements of Effective Deep Reinforcement Learn...</td>\n",
       "      <td>Tactical driving decision making is crucial f...</td>\n",
       "    </tr>\n",
       "    <tr>\n",
       "      <th>16</th>\n",
       "      <td>Rigorous Restricted Isometry Property of Low-D...</td>\n",
       "      <td>Dimensionality reduction is in demand to redu...</td>\n",
       "    </tr>\n",
       "    <tr>\n",
       "      <th>17</th>\n",
       "      <td>ReNN: Rule-embedded Neural Networks</td>\n",
       "      <td>—The artificial neural network shows powerful ...</td>\n",
       "    </tr>\n",
       "    <tr>\n",
       "      <th>18</th>\n",
       "      <td>Interpretable Deep Convolutional Neural Networ...</td>\n",
       "      <td>—Model interpretability is a requirement in ma...</td>\n",
       "    </tr>\n",
       "    <tr>\n",
       "      <th>19</th>\n",
       "      <td>On Polynomial time Constructions of Minimum He...</td>\n",
       "      <td>. A decision tree T in Bm := {0, 1}m is a bina...</td>\n",
       "    </tr>\n",
       "    <tr>\n",
       "      <th>20</th>\n",
       "      <td>Improving Active Learning in Systematic Reviews</td>\n",
       "      <td>Systematic reviews are essential to summarizi...</td>\n",
       "    </tr>\n",
       "    <tr>\n",
       "      <th>21</th>\n",
       "      <td>One-class Collective Anomaly Detection based o...</td>\n",
       "      <td>.  Intrusion  detection for computer network s...</td>\n",
       "    </tr>\n",
       "    <tr>\n",
       "      <th>22</th>\n",
       "      <td>Fast Binary Compressive Sensing via \\ell_0 Gra...</td>\n",
       "      <td>—We present a fast Compressive Sensing algorit...</td>\n",
       "    </tr>\n",
       "    <tr>\n",
       "      <th>23</th>\n",
       "      <td>3D Object Dense Reconstruction from a Single D...</td>\n",
       "      <td>—In this paper, we propose a novel approach, 3...</td>\n",
       "    </tr>\n",
       "    <tr>\n",
       "      <th>24</th>\n",
       "      <td>Pretraining Deep Actor-Critic Reinforcement Le...</td>\n",
       "      <td>Pretraining with expert demonstrations have b...</td>\n",
       "    </tr>\n",
       "    <tr>\n",
       "      <th>25</th>\n",
       "      <td>COBRA: A Fast and Simple Method for Active Clu...</td>\n",
       "      <td>Clustering is inherently ill-posed: there oft...</td>\n",
       "    </tr>\n",
       "    <tr>\n",
       "      <th>26</th>\n",
       "      <td>Sensitivity Sampling Over Dynamic Geometric Da...</td>\n",
       "      <td>Sensitivity based sampling is crucial for con...</td>\n",
       "    </tr>\n",
       "    <tr>\n",
       "      <th>27</th>\n",
       "      <td>An Incremental Path-Following Splitting Method...</td>\n",
       "      <td>The linearly constrained nonconvex nonsmooth ...</td>\n",
       "    </tr>\n",
       "    <tr>\n",
       "      <th>28</th>\n",
       "      <td>The Intriguing Properties of Model Explanations</td>\n",
       "      <td>Linear approximations to the decision boundar...</td>\n",
       "    </tr>\n",
       "    <tr>\n",
       "      <th>29</th>\n",
       "      <td>Learning to Emulate an Expert Projective Cone ...</td>\n",
       "      <td>Projective cone scheduling deﬁnes a large cla...</td>\n",
       "    </tr>\n",
       "    <tr>\n",
       "      <th>...</th>\n",
       "      <td>...</td>\n",
       "      <td>...</td>\n",
       "    </tr>\n",
       "    <tr>\n",
       "      <th>41</th>\n",
       "      <td>Deep Neural Networks with Data Dependent Impli...</td>\n",
       "      <td>Though deep neural networks (DNNs) achieve re...</td>\n",
       "    </tr>\n",
       "    <tr>\n",
       "      <th>42</th>\n",
       "      <td>Nonlinear Dimensionality Reduction on Graphs</td>\n",
       "      <td>—In this era of data deluge, many signal proce...</td>\n",
       "    </tr>\n",
       "    <tr>\n",
       "      <th>43</th>\n",
       "      <td>DeepDTA: Deep Drug-Target Binding Affinity Pre...</td>\n",
       "      <td>The identification of novel drug-target (DT) ...</td>\n",
       "    </tr>\n",
       "    <tr>\n",
       "      <th>44</th>\n",
       "      <td>Deep Learning of Constrained Autoencoders for ...</td>\n",
       "      <td>—Unsupervised feature extractors are known to ...</td>\n",
       "    </tr>\n",
       "    <tr>\n",
       "      <th>45</th>\n",
       "      <td>DxNAT - Deep Neural Networks for Explaining No...</td>\n",
       "      <td>—Non-recurring trafﬁc congestion is caused by ...</td>\n",
       "    </tr>\n",
       "    <tr>\n",
       "      <th>46</th>\n",
       "      <td>A Modiﬁed Sigma-Pi-Sigma Neural Network with A...</td>\n",
       "      <td>Sigma-Pi-Sigma neural networks (SPSNNs) as a ...</td>\n",
       "    </tr>\n",
       "    <tr>\n",
       "      <th>47</th>\n",
       "      <td>Certified Defenses against Adversarial Examples</td>\n",
       "      <td>While neural networks have achieved high accu...</td>\n",
       "    </tr>\n",
       "    <tr>\n",
       "      <th>48</th>\n",
       "      <td>Obfuscated Gradients Give a False Sense of Sec...</td>\n",
       "      <td>We identify obfuscated gradients as a phe- no...</td>\n",
       "    </tr>\n",
       "    <tr>\n",
       "      <th>49</th>\n",
       "      <td>Deep Multi-view Learning to Rank</td>\n",
       "      <td>—We study the problem of learning to rank from...</td>\n",
       "    </tr>\n",
       "    <tr>\n",
       "      <th>50</th>\n",
       "      <td>Matrix completion with deterministic pattern a...</td>\n",
       "      <td>We consider the matrix completion problem wit...</td>\n",
       "    </tr>\n",
       "    <tr>\n",
       "      <th>51</th>\n",
       "      <td>Cardiac Arrhythmia Detection from ECG Combinin...</td>\n",
       "      <td>The most common type of arrhythmia is atrial...</td>\n",
       "    </tr>\n",
       "    <tr>\n",
       "      <th>52</th>\n",
       "      <td>FASTGCN: FAST LEARNING WITH GRAPH CONVOLU-TION...</td>\n",
       "      <td>The graph convolutional networks (GCN) recent...</td>\n",
       "    </tr>\n",
       "    <tr>\n",
       "      <th>53</th>\n",
       "      <td>Learning Families of Formal Languages from Pos...</td>\n",
       "      <td>. For 50 years, research in the area of induct...</td>\n",
       "    </tr>\n",
       "    <tr>\n",
       "      <th>54</th>\n",
       "      <td>Scalable L´evy Process Priors for Spectral Ker...</td>\n",
       "      <td>Gaussian processes are rich distributions ove...</td>\n",
       "    </tr>\n",
       "    <tr>\n",
       "      <th>55</th>\n",
       "      <td>Evaluating approaches for supervised semantic ...</td>\n",
       "      <td>Relational data sources are still one of the ...</td>\n",
       "    </tr>\n",
       "    <tr>\n",
       "      <th>56</th>\n",
       "      <td>Analysis of Fast Alternating Minimization for ...</td>\n",
       "      <td>—Methods exploiting sparsity have been popular...</td>\n",
       "    </tr>\n",
       "    <tr>\n",
       "      <th>57</th>\n",
       "      <td>Nested LSTMs</td>\n",
       "      <td>JRMONIZ@ANDREW.CMU.EDU DAVID.KRUEGER@UMONTREA...</td>\n",
       "    </tr>\n",
       "    <tr>\n",
       "      <th>58</th>\n",
       "      <td>Optimizing Non-decomposable Measures with Deep...</td>\n",
       "      <td>We present a class of algorithms capable of d...</td>\n",
       "    </tr>\n",
       "    <tr>\n",
       "      <th>59</th>\n",
       "      <td>On the Inter-relationships among Drift rate, F...</td>\n",
       "      <td>We propose two general and falsiﬁable hypothe...</td>\n",
       "    </tr>\n",
       "    <tr>\n",
       "      <th>60</th>\n",
       "      <td>Fast Power system security analysis with Guide...</td>\n",
       "      <td>. We propose a new method to eﬃciently compute...</td>\n",
       "    </tr>\n",
       "    <tr>\n",
       "      <th>61</th>\n",
       "      <td>Causal Learning and Explanation of Deep Neural...</td>\n",
       "      <td>Deep neural networks are complex and opaque. ...</td>\n",
       "    </tr>\n",
       "    <tr>\n",
       "      <th>62</th>\n",
       "      <td>Clustering and Unsupervised Anomaly Detection ...</td>\n",
       "      <td>—Clustering is essential to many tasks in patt...</td>\n",
       "    </tr>\n",
       "    <tr>\n",
       "      <th>63</th>\n",
       "      <td>Spherical CNNs</td>\n",
       "      <td>Convolutional Neural Networks (CNNs) have bec...</td>\n",
       "    </tr>\n",
       "    <tr>\n",
       "      <th>64</th>\n",
       "      <td>Incremental kernel PCA and the Nystr¨om method</td>\n",
       "      <td>Incremental versions of batch algorithms are ...</td>\n",
       "    </tr>\n",
       "    <tr>\n",
       "      <th>65</th>\n",
       "      <td>Algorithmic Linearly Constrained Gaussian Proc...</td>\n",
       "      <td>We algorithmically construct multi-output Gau...</td>\n",
       "    </tr>\n",
       "    <tr>\n",
       "      <th>66</th>\n",
       "      <td>A Survey of Recent Advances in Texture Represe...</td>\n",
       "      <td>Texture is a fundamental characteristic of ma...</td>\n",
       "    </tr>\n",
       "    <tr>\n",
       "      <th>67</th>\n",
       "      <td>EVALUATING THE ROBUSTNESS OF NEURAL NETWORKS: ...</td>\n",
       "      <td>The robustness of neural networks to adversar...</td>\n",
       "    </tr>\n",
       "    <tr>\n",
       "      <th>68</th>\n",
       "      <td>ACCELERATING RECURRENT NEURAL NETWORK LANGUAGE...</td>\n",
       "      <td>This paper presents methods to accelerate rec...</td>\n",
       "    </tr>\n",
       "    <tr>\n",
       "      <th>69</th>\n",
       "      <td>Personalized Survival Prediction with Contextu...</td>\n",
       "      <td>Accurate and transparent prediction of cancer...</td>\n",
       "    </tr>\n",
       "    <tr>\n",
       "      <th>70</th>\n",
       "      <td>LINKS: A HIGH-DIMENSIONAL ONLINE CLUSTERING ME...</td>\n",
       "      <td>We present a novel algorithm, called Links, d...</td>\n",
       "    </tr>\n",
       "  </tbody>\n",
       "</table>\n",
       "<p>71 rows × 2 columns</p>\n",
       "</div>"
      ],
      "text/plain": [
       "                                                title  \\\n",
       "0   Fusarium Damaged Kernels Detection Using Trans...   \n",
       "1   VR Goggles for Robots: Real-to-sim Domain Adap...   \n",
       "2       Matrix Completion for Structured Observations   \n",
       "3   Stochastic Downsampling for Cost-Adjustable In...   \n",
       "4       Learning Combinations of Activation Functions   \n",
       "5   ALTERNATING MULTI-BIT QUANTIZATION FOR RECURRE...   \n",
       "6                        AUGMENTED SPACE LINEAR MODEL   \n",
       "7   JointDNN: An Efficient Training and Inference ...   \n",
       "8   Low-rank Bandit Methods for High-dimensional D...   \n",
       "9   Less is more: sampling chemical space with act...   \n",
       "10         Distributed Newton Methods for Deep Neural   \n",
       "11          DISCRETE AUTOENCODERS FOR SEQUENCE MODELS   \n",
       "12         Kernel Distillation for Gaussian Processes   \n",
       "13                      Short-term Memory of Deep RNN   \n",
       "14  Training Neural Networks by Using Power Linear...   \n",
       "15  Elements of Effective Deep Reinforcement Learn...   \n",
       "16  Rigorous Restricted Isometry Property of Low-D...   \n",
       "17               ReNN: Rule-embedded Neural Networks    \n",
       "18  Interpretable Deep Convolutional Neural Networ...   \n",
       "19  On Polynomial time Constructions of Minimum He...   \n",
       "20    Improving Active Learning in Systematic Reviews   \n",
       "21  One-class Collective Anomaly Detection based o...   \n",
       "22  Fast Binary Compressive Sensing via \\ell_0 Gra...   \n",
       "23  3D Object Dense Reconstruction from a Single D...   \n",
       "24  Pretraining Deep Actor-Critic Reinforcement Le...   \n",
       "25  COBRA: A Fast and Simple Method for Active Clu...   \n",
       "26  Sensitivity Sampling Over Dynamic Geometric Da...   \n",
       "27  An Incremental Path-Following Splitting Method...   \n",
       "28    The Intriguing Properties of Model Explanations   \n",
       "29  Learning to Emulate an Expert Projective Cone ...   \n",
       "..                                                ...   \n",
       "41  Deep Neural Networks with Data Dependent Impli...   \n",
       "42       Nonlinear Dimensionality Reduction on Graphs   \n",
       "43  DeepDTA: Deep Drug-Target Binding Affinity Pre...   \n",
       "44  Deep Learning of Constrained Autoencoders for ...   \n",
       "45  DxNAT - Deep Neural Networks for Explaining No...   \n",
       "46  A Modiﬁed Sigma-Pi-Sigma Neural Network with A...   \n",
       "47    Certified Defenses against Adversarial Examples   \n",
       "48  Obfuscated Gradients Give a False Sense of Sec...   \n",
       "49                   Deep Multi-view Learning to Rank   \n",
       "50  Matrix completion with deterministic pattern a...   \n",
       "51  Cardiac Arrhythmia Detection from ECG Combinin...   \n",
       "52  FASTGCN: FAST LEARNING WITH GRAPH CONVOLU-TION...   \n",
       "53  Learning Families of Formal Languages from Pos...   \n",
       "54  Scalable L´evy Process Priors for Spectral Ker...   \n",
       "55  Evaluating approaches for supervised semantic ...   \n",
       "56  Analysis of Fast Alternating Minimization for ...   \n",
       "57                                       Nested LSTMs   \n",
       "58  Optimizing Non-decomposable Measures with Deep...   \n",
       "59  On the Inter-relationships among Drift rate, F...   \n",
       "60  Fast Power system security analysis with Guide...   \n",
       "61  Causal Learning and Explanation of Deep Neural...   \n",
       "62  Clustering and Unsupervised Anomaly Detection ...   \n",
       "63                                     Spherical CNNs   \n",
       "64     Incremental kernel PCA and the Nystr¨om method   \n",
       "65  Algorithmic Linearly Constrained Gaussian Proc...   \n",
       "66  A Survey of Recent Advances in Texture Represe...   \n",
       "67  EVALUATING THE ROBUSTNESS OF NEURAL NETWORKS: ...   \n",
       "68  ACCELERATING RECURRENT NEURAL NETWORK LANGUAGE...   \n",
       "69  Personalized Survival Prediction with Contextu...   \n",
       "70  LINKS: A HIGH-DIMENSIONAL ONLINE CLUSTERING ME...   \n",
       "\n",
       "                                             abstract  \n",
       "0   . The present work shows the application of tr...  \n",
       "1    This paper deals with the reality gap from a ...  \n",
       "2   — The need to predict or ﬁll-in missing data, ...  \n",
       "3    It is desirable to train convolutional networ...  \n",
       "4   —In the last decade, an active area of researc...  \n",
       "5    Recurrent neural networks have achieved excel...  \n",
       "6    The linear model uses the space deﬁned by the...  \n",
       "7    Deep neural networks are among the most influ...  \n",
       "8    We consider high dimensional dynamic multi-pr...  \n",
       "9     The  development  of  accurate  and  transfe...  \n",
       "10   Deep learning involves a difﬁcult non-convex ...  \n",
       "11   Recurrent models for sequences have been rece...  \n",
       "12   Gaussian processes (GPs) are ﬂexible models t...  \n",
       "13  . The extension of deep learning towards tempo...  \n",
       "14   In this paper, we introduce ”Power Linear Uni...  \n",
       "15   Tactical driving decision making is crucial f...  \n",
       "16   Dimensionality reduction is in demand to redu...  \n",
       "17  —The artificial neural network shows powerful ...  \n",
       "18  —Model interpretability is a requirement in ma...  \n",
       "19  . A decision tree T in Bm := {0, 1}m is a bina...  \n",
       "20   Systematic reviews are essential to summarizi...  \n",
       "21  .  Intrusion  detection for computer network s...  \n",
       "22  —We present a fast Compressive Sensing algorit...  \n",
       "23  —In this paper, we propose a novel approach, 3...  \n",
       "24   Pretraining with expert demonstrations have b...  \n",
       "25   Clustering is inherently ill-posed: there oft...  \n",
       "26   Sensitivity based sampling is crucial for con...  \n",
       "27   The linearly constrained nonconvex nonsmooth ...  \n",
       "28   Linear approximations to the decision boundar...  \n",
       "29   Projective cone scheduling deﬁnes a large cla...  \n",
       "..                                                ...  \n",
       "41   Though deep neural networks (DNNs) achieve re...  \n",
       "42  —In this era of data deluge, many signal proce...  \n",
       "43   The identification of novel drug-target (DT) ...  \n",
       "44  —Unsupervised feature extractors are known to ...  \n",
       "45  —Non-recurring trafﬁc congestion is caused by ...  \n",
       "46   Sigma-Pi-Sigma neural networks (SPSNNs) as a ...  \n",
       "47   While neural networks have achieved high accu...  \n",
       "48   We identify obfuscated gradients as a phe- no...  \n",
       "49  —We study the problem of learning to rank from...  \n",
       "50   We consider the matrix completion problem wit...  \n",
       "51    The most common type of arrhythmia is atrial...  \n",
       "52   The graph convolutional networks (GCN) recent...  \n",
       "53  . For 50 years, research in the area of induct...  \n",
       "54   Gaussian processes are rich distributions ove...  \n",
       "55   Relational data sources are still one of the ...  \n",
       "56  —Methods exploiting sparsity have been popular...  \n",
       "57   JRMONIZ@ANDREW.CMU.EDU DAVID.KRUEGER@UMONTREA...  \n",
       "58   We present a class of algorithms capable of d...  \n",
       "59   We propose two general and falsiﬁable hypothe...  \n",
       "60  . We propose a new method to eﬃciently compute...  \n",
       "61   Deep neural networks are complex and opaque. ...  \n",
       "62  —Clustering is essential to many tasks in patt...  \n",
       "63   Convolutional Neural Networks (CNNs) have bec...  \n",
       "64   Incremental versions of batch algorithms are ...  \n",
       "65   We algorithmically construct multi-output Gau...  \n",
       "66   Texture is a fundamental characteristic of ma...  \n",
       "67   The robustness of neural networks to adversar...  \n",
       "68   This paper presents methods to accelerate rec...  \n",
       "69   Accurate and transparent prediction of cancer...  \n",
       "70   We present a novel algorithm, called Links, d...  \n",
       "\n",
       "[71 rows x 2 columns]"
      ]
     },
     "execution_count": 11,
     "metadata": {},
     "output_type": "execute_result"
    }
   ],
   "source": [
    "df"
   ]
  },
  {
   "cell_type": "code",
   "execution_count": 15,
   "metadata": {},
   "outputs": [
    {
     "data": {
      "text/plain": [
       "'Fusarium Damaged Kernels Detection Using Transfer Learning on Deep Neural Network Architecture'"
      ]
     },
     "execution_count": 15,
     "metadata": {},
     "output_type": "execute_result"
    }
   ],
   "source": [
    "df.title[0]"
   ]
  },
  {
   "cell_type": "code",
   "execution_count": 12,
   "metadata": {},
   "outputs": [
    {
     "data": {
      "text/plain": [
       "'. The present work shows the application of transfer learning for a pre-trained deep neural network (DNN), using a small image dataset (\\xe2\\x89\\x88 12,000) on a single workstation with enabled NVIDIA GPU card that takes up to 1 hour to complete the training task and archive an overall average accuracy of 94.7%. The DNN presents a 20% score of misclassi\\xef\\xac\\x81cation for an external test dataset. The accuracy of the proposed methodology is equivalent to ones using HSI methodology (81%-91%) used for the same task, but with the advantage of being independent on special equipment to classify wheat kernel for FHB symptoms. '"
      ]
     },
     "execution_count": 12,
     "metadata": {},
     "output_type": "execute_result"
    }
   ],
   "source": [
    "df.abstract[0]"
   ]
  },
  {
   "cell_type": "code",
   "execution_count": 14,
   "metadata": {},
   "outputs": [
    {
     "data": {
      "text/plain": [
       "'VR Goggles for Robots: Real-to-sim Domain Adaptation for Visual Control'"
      ]
     },
     "execution_count": 14,
     "metadata": {},
     "output_type": "execute_result"
    }
   ],
   "source": [
    "df.title[1]"
   ]
  },
  {
   "cell_type": "code",
   "execution_count": 13,
   "metadata": {},
   "outputs": [
    {
     "data": {
      "text/plain": [
       "' This paper deals with the reality gap from a novel perspective, targeting transferring Deep Reinforce- ment Learning (DRL) policies learned in simulated environments to the real-world domain for visual control tasks. Instead of adopting the common so- lutions to the problem by increasing the visual \\xef\\xac\\x81- delity of synthetic images output from simulators during the training phase, this paper seeks to tackle the problem by translating the real-world image streams back to the synthetic domain during the de- ployment phase, to make the robot feel at home. We propose this as a lightweight, \\xef\\xac\\x82exible, and ef\\xef\\xac\\x81cient solution for visual control, as 1) no extra trans- fer steps are required during the expensive training of DRL agents in simulation; 2) the trained DRL agents will not be constrained to being deployable in only one speci\\xef\\xac\\x81c real-world environment; 3) the policy training and the transfer operations are de- coupled, and can be conducted in parallel. Besides this, we propose a conceptually simple yet very ef- fective shift loss to constrain the consistency be- tween subsequent frames, eliminating the need for optical \\xef\\xac\\x82ow. We validate the shift loss for artis- tic style transfer for videos and domain adaptation, and validate our visual control approach in real- world robot experiments. A video of our results is available at: https://goo.gl/b1xz1s. '"
      ]
     },
     "execution_count": 13,
     "metadata": {},
     "output_type": "execute_result"
    }
   ],
   "source": [
    "df.abstract[1]"
   ]
  },
  {
   "cell_type": "code",
   "execution_count": 29,
   "metadata": {},
   "outputs": [],
   "source": [
    "LabeledSentence=gensim.models.doc2vec.LabeledSentence"
   ]
  },
  {
   "cell_type": "code",
   "execution_count": 30,
   "metadata": {
    "collapsed": true
   },
   "outputs": [],
   "source": [
    "class LabeledLineSentence(object):\n",
    "    def __init__(self, doc_list, labels_list):\n",
    "        self.labels_list=labels_list\n",
    "        self.doc_list=doc_list\n",
    "    def __iter__(self):\n",
    "        for idx, doc in enumerate(self.doc_list):\n",
    "            yield LabeledSentence(words=str(doc).split(), tags=[self.labels_list[idx]])"
   ]
  },
  {
   "cell_type": "code",
   "execution_count": 18,
   "metadata": {},
   "outputs": [],
   "source": [
    "title_list=[]\n",
    "abstract_list=[]\n",
    "\n",
    "for onetitle in df.title:\n",
    "    print(onetitle)\n",
    "    #title_list.append(onetitle)\n",
    "    \n",
    "for oneabstract in df.abstract:\n",
    "    print(oneabstract)\n",
    "    #abstract_list.append(abstract_list)"
   ]
  },
  {
   "cell_type": "code",
   "execution_count": 19,
   "metadata": {},
   "outputs": [
    {
     "data": {
      "text/plain": [
       "'LINKS: A HIGH-DIMENSIONAL ONLINE CLUSTERING METHOD'"
      ]
     },
     "execution_count": 19,
     "metadata": {},
     "output_type": "execute_result"
    }
   ],
   "source": [
    "onetitle"
   ]
  },
  {
   "cell_type": "code",
   "execution_count": 20,
   "metadata": {},
   "outputs": [
    {
     "data": {
      "text/plain": [
       "' We present a novel algorithm, called Links, designed to perform online clustering on unit vectors in a high-dimensional Euclidean space. The algorithm is appropriate when it is necessary to clus- ter data ef\\xef\\xac\\x81ciently as it streams in, and is to be contrasted with tra- ditional batch clustering algorithms that have access to all data at once. For example, Links has been successfully applied to embed- ding vectors generated from face images or voice recordings for the purpose of recognizing people, thereby providing real-time identi\\xef\\xac\\x81- cation during video or audio capture. '"
      ]
     },
     "execution_count": 20,
     "metadata": {},
     "output_type": "execute_result"
    }
   ],
   "source": [
    "oneabstract"
   ]
  },
  {
   "cell_type": "code",
   "execution_count": 33,
   "metadata": {},
   "outputs": [],
   "source": [
    "it=LabeledLineSentence(doc_list=df.abstract, labels_list=df.title)"
   ]
  },
  {
   "cell_type": "code",
   "execution_count": 37,
   "metadata": {},
   "outputs": [
    {
     "ename": "AttributeError",
     "evalue": "'LabeledLineSentence' object has no attribute 'words'",
     "output_type": "error",
     "traceback": [
      "\u001b[0;31m---------------------------------------------------------------------------\u001b[0m",
      "\u001b[0;31mAttributeError\u001b[0m                            Traceback (most recent call last)",
      "\u001b[0;32m<ipython-input-37-cd36bb5a2a26>\u001b[0m in \u001b[0;36m<module>\u001b[0;34m()\u001b[0m\n\u001b[0;32m----> 1\u001b[0;31m \u001b[0mit\u001b[0m\u001b[0;34m.\u001b[0m\u001b[0mwords\u001b[0m\u001b[0;34m\u001b[0m\u001b[0m\n\u001b[0m",
      "\u001b[0;31mAttributeError\u001b[0m: 'LabeledLineSentence' object has no attribute 'words'"
     ]
    }
   ],
   "source": [
    "it.words"
   ]
  },
  {
   "cell_type": "code",
   "execution_count": 38,
   "metadata": {},
   "outputs": [
    {
     "ename": "AttributeError",
     "evalue": "'LabeledLineSentence' object has no attribute 'tags'",
     "output_type": "error",
     "traceback": [
      "\u001b[0;31m---------------------------------------------------------------------------\u001b[0m",
      "\u001b[0;31mAttributeError\u001b[0m                            Traceback (most recent call last)",
      "\u001b[0;32m<ipython-input-38-249eacba4cd8>\u001b[0m in \u001b[0;36m<module>\u001b[0;34m()\u001b[0m\n\u001b[0;32m----> 1\u001b[0;31m \u001b[0mit\u001b[0m\u001b[0;34m.\u001b[0m\u001b[0mtags\u001b[0m\u001b[0;34m\u001b[0m\u001b[0m\n\u001b[0m",
      "\u001b[0;31mAttributeError\u001b[0m: 'LabeledLineSentence' object has no attribute 'tags'"
     ]
    }
   ],
   "source": [
    "it.tags"
   ]
  },
  {
   "cell_type": "code",
   "execution_count": null,
   "metadata": {
    "collapsed": true
   },
   "outputs": [],
   "source": []
  }
 ],
 "metadata": {
  "kernelspec": {
   "display_name": "Python 3",
   "language": "python",
   "name": "python3"
  },
  "language_info": {
   "codemirror_mode": {
    "name": "ipython",
    "version": 3
   },
   "file_extension": ".py",
   "mimetype": "text/x-python",
   "name": "python",
   "nbconvert_exporter": "python",
   "pygments_lexer": "ipython3",
   "version": "3.6.4"
  }
 },
 "nbformat": 4,
 "nbformat_minor": 1
}

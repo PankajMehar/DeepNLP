{
 "cells": [
  {
   "cell_type": "markdown",
   "metadata": {},
   "source": [
    "# 학습된 Checkpoint를 저장하고 불러온 후, 활용\n",
    "\n",
    " - graph를 freeze 한 후, 이용하기 위한 방법을 기술\n",
    " - 그래프를 freeze 할 때, graph_def ProtoBuf 형식으로 저장하였음\n",
    " - Python으로 로드하기 위해서는, graph_def ProtoBuf를 Import 하고, graph_def를 Graph로 로드해야함\n"
   ]
  },
  {
   "cell_type": "code",
   "execution_count": 1,
   "metadata": {},
   "outputs": [
    {
     "name": "stderr",
     "output_type": "stream",
     "text": [
      "/Users/sinseongjin/tf17_py3/lib/python3.6/site-packages/h5py/__init__.py:36: FutureWarning: Conversion of the second argument of issubdtype from `float` to `np.floating` is deprecated. In future, it will be treated as `np.float64 == np.dtype(float).type`.\n",
      "  from ._conv import register_converters as _register_converters\n"
     ]
    }
   ],
   "source": [
    "import numpy as np\n",
    "\n",
    "import tensorflow as tf\n",
    "from tensorflow.python.platform import gfile\n",
    "from tensorflow.python.framework.graph_util import convert_variables_to_constants"
   ]
  },
  {
   "cell_type": "code",
   "execution_count": 2,
   "metadata": {},
   "outputs": [],
   "source": [
    "def load_graph(frozen_graph_filename):\n",
    "    \n",
    "    with tf.gfile.GFile(frozen_graph_filename, 'rb') as f:\n",
    "        #protobuf file을 불러오고, parse 한다\n",
    "        graph_def = tf.GraphDef()\n",
    "        graph_def.ParseFromString(f.read())\n",
    "        \n",
    "    with tf.Graph().as_default() as graph:\n",
    "        tf.import_graph_def(graph_def, name='prefix')\n",
    "        \n",
    "    return graph"
   ]
  },
  {
   "cell_type": "code",
   "execution_count": 3,
   "metadata": {
    "scrolled": false
   },
   "outputs": [],
   "source": [
    "graph = load_graph('./results/frozen_model.pb')"
   ]
  },
  {
   "cell_type": "code",
   "execution_count": 4,
   "metadata": {},
   "outputs": [
    {
     "name": "stdout",
     "output_type": "stream",
     "text": [
      "prefix/Placeholder/inputs_placeholder\n",
      "prefix/NN/W1\n",
      "prefix/NN/W1/read\n",
      "prefix/NN/b1\n",
      "prefix/NN/b1/read\n",
      "prefix/NN/W2\n",
      "prefix/NN/W2/read\n",
      "prefix/NN/b2\n",
      "prefix/NN/b2/read\n",
      "prefix/NN/MatMul\n",
      "prefix/NN/add\n",
      "prefix/NN/Relu\n",
      "prefix/NN/MatMul_1\n",
      "prefix/NN/add_1\n",
      "prefix/NN/Relu_1\n",
      "prefix/NN/Add\n",
      "prefix/NN/truediv/y\n",
      "prefix/NN/truediv\n",
      "prefix/Accuracy/predictions/y\n",
      "prefix/Accuracy/predictions\n"
     ]
    }
   ],
   "source": [
    "#각각 opearation 불러오기\n",
    "for op in graph.get_operations():\n",
    "    print(op.name)"
   ]
  },
  {
   "cell_type": "code",
   "execution_count": 5,
   "metadata": {},
   "outputs": [],
   "source": [
    "# input과 output nodes 접근\n",
    "x = graph.get_tensor_by_name('prefix/Placeholder/inputs_placeholder:0')\n",
    "y = graph.get_tensor_by_name('prefix/Accuracy/predictions:0')"
   ]
  },
  {
   "cell_type": "code",
   "execution_count": 9,
   "metadata": {},
   "outputs": [
    {
     "name": "stdout",
     "output_type": "stream",
     "text": [
      "[[False]]\n"
     ]
    }
   ],
   "source": [
    "with tf.Session(graph=graph) as sess:\n",
    "    # Note: we don't nee to initialize/restore anything\n",
    "    # 그래프에 Variables이 없고, only 하드코딩 숫자들만 존재\n",
    "    y_out = sess.run(y, feed_dict={\n",
    "        x: [[3, 5, 7, 4, 5, 1, 1, 1, 1, 1]] # < 45\n",
    "    })\n",
    "    # 이 뉴럴넷은 45보다 크기가 클 경우에, 인식하게 만들었다.\n",
    "    # 그 외는 False\n",
    "    print(y_out) # [[ False ]] Yay, it works!"
   ]
  },
  {
   "cell_type": "markdown",
   "metadata": {},
   "source": [
    "# Appendix\n",
    "\n",
    "https://blog.metaflow.fr/tensorflow-how-to-freeze-a-model-and-serve-it-with-a-python-api-d4f3596b3adc\n",
    "\n",
    "https://blog.metaflow.fr/tensorflow-saving-restoring-and-mixing-multiple-models-c4c94d5d7125\n",
    "\n",
    "http://cv-tricks.com/how-to/freeze-tensorflow-models/"
   ]
  },
  {
   "cell_type": "code",
   "execution_count": null,
   "metadata": {},
   "outputs": [],
   "source": []
  }
 ],
 "metadata": {
  "kernelspec": {
   "display_name": "Python 3",
   "language": "python",
   "name": "python3"
  },
  "language_info": {
   "codemirror_mode": {
    "name": "ipython",
    "version": 3
   },
   "file_extension": ".py",
   "mimetype": "text/x-python",
   "name": "python",
   "nbconvert_exporter": "python",
   "pygments_lexer": "ipython3",
   "version": "3.6.4"
  }
 },
 "nbformat": 4,
 "nbformat_minor": 2
}

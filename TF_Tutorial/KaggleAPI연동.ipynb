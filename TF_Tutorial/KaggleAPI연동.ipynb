{
 "cells": [
  {
   "cell_type": "markdown",
   "metadata": {},
   "source": [
    "kaggle api기능을 통해 관련 기능을 연동한다.\n",
    "\n",
    "python 설치 후, kaggle api를 pip을 사용하여 설치한다.\n",
    "\n",
    "\n",
    "```python\n",
    "pip install kaggle\n",
    "```\n",
    "\n",
    "우선 Credential을 받기 위해, https://www.kaggle.com 에 가입한다.\n",
    "\n",
    "로그인 후, 'Account' tab에 가서 'Create API Token'를 선택하여 kaggle.json을 다운 받는다.\n",
    "\n",
    "kaggle.json에는 개인 credential 정보가 포함되어 있고, location을 ~/.kaggle/kaggle.json (Windows환경에서는 C:\\Users\\<Windows-username>\\.kaggle\\kaggle.json)에 넣어 두자.\n",
    "\n",
    "리눅스에서는 보안을 위해 chmod 600 ~/.kaggle/kaggle.json으로 입력\n",
    "\n",
    "파일 다운로드 \"kaggle competitions download -c word2vec-nlp-tutorial\""
   ]
  },
  {
   "cell_type": "code",
   "execution_count": null,
   "metadata": {},
   "outputs": [],
   "source": []
  },
  {
   "cell_type": "code",
   "execution_count": null,
   "metadata": {},
   "outputs": [],
   "source": []
  }
 ],
 "metadata": {
  "kernelspec": {
   "display_name": "Python 3",
   "language": "python",
   "name": "python3"
  },
  "language_info": {
   "codemirror_mode": {
    "name": "ipython",
    "version": 3
   },
   "file_extension": ".py",
   "mimetype": "text/x-python",
   "name": "python",
   "nbconvert_exporter": "python",
   "pygments_lexer": "ipython3",
   "version": "3.6.4"
  }
 },
 "nbformat": 4,
 "nbformat_minor": 2
}
